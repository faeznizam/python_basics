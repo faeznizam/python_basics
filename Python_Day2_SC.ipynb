{
 "cells": [
  {
   "cell_type": "markdown",
   "metadata": {},
   "source": [
    "<img src=\"images/cads-logo.png\" style=\"height: 100px;\" align=left> <img src=\"images/python-logo.png\" style=\"height: 100px;\" align=right>"
   ]
  },
  {
   "cell_type": "markdown",
   "metadata": {},
   "source": [
    "# Python Fundamentals Day 2\n",
    "\n",
    "Welcome to Python Fundamentals Day 2.\n",
    "\n",
    "So what is on the menu for today? \n",
    "\n",
    "We start with the While loop and provide you some additional useful tricks to apply in the For loop. We spend a bit of time on casting objects from one type to the other and explain you what these \\_\\_double\\_\\_ underscores are about.\n",
    "\n",
    "Then we go through the overviews of list and dictionary operations. There is quite a lot you can do with these 2 powerfull and common used objects. \n",
    "\n",
    "Then list comprehension. This is a very powerful construct that allows you to create a new list from another while applying a filter and an expression to each item. It is a for loop inside a list.\n",
    "\n",
    "And finally the nameless lambda function, which comes in very handy in numerous applications."
   ]
  },
  {
   "cell_type": "markdown",
   "metadata": {},
   "source": [
    "## Table of Contents\n",
    "\n",
    "- [More on loops](#More-on-loops)\n",
    "    - [While loop](#While-loop)\n",
    "    - [Range](#Range)\n",
    "    - [Enumerate](#Enumerate)\n",
    "    - [Casting](#Casting)\n",
    "    - [Dunder methods](#Dunder-methods)\n",
    "    - [Summary - More on loops](#Summary---More-on-loops)\n",
    "        - [while](#while)\n",
    "        - [range](#range)\n",
    "        - [enumerate](#enumerate)\n",
    "        - [casting](#casting)\n",
    "        - [dunder methods](#dunder-methods)\n",
    "- [List operations](#List-operations)\n",
    "    - [Summary - List operations](#Summary---List-operations)\n",
    "        - [list operations](#list-operations)\n",
    "    - [RUN ME](#RUN-ME)\n",
    "    - [Exercises - List operations](#Exercises---List-operations)\n",
    "        - [Exercise 1 - Month days](#Exercise-1---Month-days)\n",
    "        - [Exercise 2 - Relative population](#Exercise-2---Relative-population)\n",
    "        - [Exercise 3 - Get unevens](#Exercise-3---Get-unevens)\n",
    "        - [Exercise 4 - Sum top](#Exercise-4---Sum-top)\n",
    "        - [Exercise 5 - Match ends](#Exercise-5---Match-ends)\n",
    "- [Dictionary operations](#Dictionary-operations)\n",
    "    - [Summary - Dictionary operations](#Summary---Dictionary-operations)\n",
    "        - [dictionary operations](#dictionary-operations)\n",
    "    - [RUN ME](#RUN-ME)\n",
    "    - [Exercises - Dictionary operations](#Exercises---Dictionary-operations)\n",
    "        - [Exercise 1 - Numbers info](#Exercise-1---Numbers-info)\n",
    "        - [Exercice 2 - Cart checkout](#Exercice-2---Cart-checkout)\n",
    "        - [Exercise 3 - Grade students](#Exercise-3---Grade-students)\n",
    "- [List comprehension and lambda](#List-comprehension-and-lambda)\n",
    "    - [List Comprehensions](#List-Comprehensions)\n",
    "    - [Lambda](#Lambda)\n",
    "    - [Summary - List comprehension and lambda](#Summary---List-comprehension-and-lambda)\n",
    "        - [list comprehension](#list-comprehension)\n",
    "        - [lambda](#lambda)\n",
    "    - [RUN ME](#RUN-ME)\n",
    "    - [Exercises - List comprehension and lambda](#Exercises---List-comprehension-and-lambda)\n",
    "        - [Exercise 1 - Negative ints](#Exercise-1---Negative-ints)\n",
    "        - [Exercise 2 - Power odds](#Exercise-2---Power-odds)\n",
    "        - [Exercise 3 - Word lengths](#Exercise-3---Word-lengths)\n",
    "        - [Exercise 4 - Celsius to Fahrenheit](#Exercise-4---Celsius-to-Fahrenheit)\n",
    "        - [Exercise 5 - Square odds lambda](#Exercise-5---Square-odds-lambda)\n",
    "        - [Exercise 6 - Square odds lc](#-Exercise-6---Square-odds-lc)\n",
    "        - [Exercise 7 - Extract A names lambda](#Exercise-7---Extract-A-names-lambda)\n",
    "        - [Exercise 8 - Extract B names lc](#Exercise-8---Extract-B-names-lc)\n",
    "        - [Exercise 9 - Sort last](#Exercise-9---Sort-last)\n",
    "        - [Exercise 10 - Coordinates](#Exercise-10---Coordinates)\n",
    "        - [Exercise 11 - Ball Cake](#Exercise-11---Ball-Cake)\n",
    "        - [Exercise 12 - Front x](#Exercise-12---Front-x)"
   ]
  },
  {
   "cell_type": "markdown",
   "metadata": {
    "toc-hr-collapsed": false
   },
   "source": [
    "## More on loops"
   ]
  },
  {
   "cell_type": "markdown",
   "metadata": {},
   "source": [
    "### While loop"
   ]
  },
  {
   "cell_type": "markdown",
   "metadata": {},
   "source": [
    "Besides the for loop there is also the while loop.\n",
    "\n",
    "The while loop continues iterating until it's condition stops being True.\n",
    "\n",
    "Let's see it."
   ]
  },
  {
   "cell_type": "code",
   "execution_count": 2,
   "metadata": {},
   "outputs": [
    {
     "name": "stdout",
     "output_type": "stream",
     "text": [
      "1\n",
      "2\n",
      "3\n",
      "4\n",
      "5\n",
      "6\n",
      "7\n",
      "8\n",
      "9\n",
      "10\n"
     ]
    }
   ],
   "source": [
    "i = 0\n",
    "\n",
    "while i < 10:\n",
    "    i += 1\n",
    "    print(i)"
   ]
  },
  {
   "cell_type": "markdown",
   "metadata": {},
   "source": [
    "Let's write a code that asks the user for integer numbers until the total is 50."
   ]
  },
  {
   "cell_type": "code",
   "execution_count": 6,
   "metadata": {},
   "outputs": [
    {
     "name": "stdin",
     "output_type": "stream",
     "text": [
      " 677\n"
     ]
    },
    {
     "name": "stdout",
     "output_type": "stream",
     "text": [
      "total: 677 x: 677\n"
     ]
    }
   ],
   "source": [
    "total = 0\n",
    "while total <50:\n",
    "    x = int(input())\n",
    "    total += x\n",
    "    print('total:',total, 'x:',x)"
   ]
  },
  {
   "cell_type": "markdown",
   "metadata": {},
   "source": [
    "What did we do here?\n",
    "\n",
    "Notice the condition \"total < 50\". The loop keeps iterating until that condition stops being True. The input() function asks the user for input. The int() function casts a string to a float. This is called casting, we cast an object of one type to be of another type. Then we add the resulting number x to the total. We repeat until the total is 50 or higher.\n",
    "\n",
    "Now we want to check if the input string is convertible to an integer. Let's use dir(str) to see which method we could use for that."
   ]
  },
  {
   "cell_type": "code",
   "execution_count": 7,
   "metadata": {},
   "outputs": [
    {
     "data": {
      "text/plain": [
       "['__add__',\n",
       " '__class__',\n",
       " '__contains__',\n",
       " '__delattr__',\n",
       " '__dir__',\n",
       " '__doc__',\n",
       " '__eq__',\n",
       " '__format__',\n",
       " '__ge__',\n",
       " '__getattribute__',\n",
       " '__getitem__',\n",
       " '__getnewargs__',\n",
       " '__gt__',\n",
       " '__hash__',\n",
       " '__init__',\n",
       " '__init_subclass__',\n",
       " '__iter__',\n",
       " '__le__',\n",
       " '__len__',\n",
       " '__lt__',\n",
       " '__mod__',\n",
       " '__mul__',\n",
       " '__ne__',\n",
       " '__new__',\n",
       " '__reduce__',\n",
       " '__reduce_ex__',\n",
       " '__repr__',\n",
       " '__rmod__',\n",
       " '__rmul__',\n",
       " '__setattr__',\n",
       " '__sizeof__',\n",
       " '__str__',\n",
       " '__subclasshook__',\n",
       " 'capitalize',\n",
       " 'casefold',\n",
       " 'center',\n",
       " 'count',\n",
       " 'encode',\n",
       " 'endswith',\n",
       " 'expandtabs',\n",
       " 'find',\n",
       " 'format',\n",
       " 'format_map',\n",
       " 'index',\n",
       " 'isalnum',\n",
       " 'isalpha',\n",
       " 'isascii',\n",
       " 'isdecimal',\n",
       " 'isdigit',\n",
       " 'isidentifier',\n",
       " 'islower',\n",
       " 'isnumeric',\n",
       " 'isprintable',\n",
       " 'isspace',\n",
       " 'istitle',\n",
       " 'isupper',\n",
       " 'join',\n",
       " 'ljust',\n",
       " 'lower',\n",
       " 'lstrip',\n",
       " 'maketrans',\n",
       " 'partition',\n",
       " 'replace',\n",
       " 'rfind',\n",
       " 'rindex',\n",
       " 'rjust',\n",
       " 'rpartition',\n",
       " 'rsplit',\n",
       " 'rstrip',\n",
       " 'split',\n",
       " 'splitlines',\n",
       " 'startswith',\n",
       " 'strip',\n",
       " 'swapcase',\n",
       " 'title',\n",
       " 'translate',\n",
       " 'upper',\n",
       " 'zfill']"
      ]
     },
     "execution_count": 7,
     "metadata": {},
     "output_type": "execute_result"
    }
   ],
   "source": [
    "dir(str)"
   ]
  },
  {
   "cell_type": "markdown",
   "metadata": {},
   "source": [
    "**Question:** Which string function can we use to check can cast a string to an int?\n",
    "<br>\n",
    "**Answer:**"
   ]
  },
  {
   "cell_type": "markdown",
   "metadata": {},
   "source": [
    "isnumeric, isdigit, isdecimal"
   ]
  },
  {
   "cell_type": "markdown",
   "metadata": {},
   "source": [
    "We can now add this if-else statement to make it more robust."
   ]
  },
  {
   "cell_type": "code",
   "execution_count": 8,
   "metadata": {},
   "outputs": [
    {
     "name": "stdout",
     "output_type": "stream",
     "text": [
      "Help on method_descriptor:\n",
      "\n",
      "isnumeric(self, /)\n",
      "    Return True if the string is a numeric string, False otherwise.\n",
      "    \n",
      "    A string is numeric if all characters in the string are numeric and there is at\n",
      "    least one character in the string.\n",
      "\n"
     ]
    }
   ],
   "source": [
    "help(str.isnumeric)"
   ]
  },
  {
   "cell_type": "code",
   "execution_count": 13,
   "metadata": {},
   "outputs": [
    {
     "name": "stdin",
     "output_type": "stream",
     "text": [
      " 23\n"
     ]
    },
    {
     "name": "stdout",
     "output_type": "stream",
     "text": [
      "total: 23 x: 23\n"
     ]
    },
    {
     "name": "stdin",
     "output_type": "stream",
     "text": [
      " 213\n"
     ]
    },
    {
     "name": "stdout",
     "output_type": "stream",
     "text": [
      "total: 236 x: 213\n"
     ]
    }
   ],
   "source": [
    "total = 0\n",
    "while total <50:\n",
    "    x = input()\n",
    "    if x.isnumeric():\n",
    "        total += int(x)\n",
    "    else:\n",
    "        print('{} is not a valid round number!'.format(x))\n",
    "    print('total:',total, 'x:',x)"
   ]
  },
  {
   "cell_type": "markdown",
   "metadata": {},
   "source": [
    "What did we do here?\n",
    "\n",
    "Variable x is a string. If that string is numeric it can be casted to an int. Else we print that it is not a valid round number. "
   ]
  },
  {
   "cell_type": "markdown",
   "metadata": {},
   "source": [
    "### Range\n",
    "\n",
    "The for loop is used often in combination with range(). Let's have a look."
   ]
  },
  {
   "cell_type": "code",
   "execution_count": null,
   "metadata": {},
   "outputs": [],
   "source": [
    "help(range)"
   ]
  },
  {
   "cell_type": "code",
   "execution_count": 14,
   "metadata": {},
   "outputs": [
    {
     "data": {
      "text/plain": [
       "range(0, 5)"
      ]
     },
     "execution_count": 14,
     "metadata": {},
     "output_type": "execute_result"
    }
   ],
   "source": [
    "range(5)"
   ]
  },
  {
   "cell_type": "code",
   "execution_count": 15,
   "metadata": {},
   "outputs": [
    {
     "name": "stdout",
     "output_type": "stream",
     "text": [
      "0\n",
      "1\n",
      "2\n",
      "3\n",
      "4\n"
     ]
    }
   ],
   "source": [
    "for i in range(5):\n",
    "    print(i)"
   ]
  },
  {
   "cell_type": "code",
   "execution_count": 18,
   "metadata": {},
   "outputs": [
    {
     "name": "stdout",
     "output_type": "stream",
     "text": [
      "0\n",
      "2\n",
      "4\n",
      "6\n",
      "8\n",
      "10\n"
     ]
    }
   ],
   "source": [
    "# last number in column is increment value\n",
    "\n",
    "for i in range(0,11,2):\n",
    "    print(i)"
   ]
  },
  {
   "cell_type": "markdown",
   "metadata": {},
   "source": [
    "### Enumerate (nomborkan)\n",
    "\n",
    "Sometimes you want to loop over a list of items and also use the index numbers. For this we can use the numerate function."
   ]
  },
  {
   "cell_type": "code",
   "execution_count": 19,
   "metadata": {},
   "outputs": [],
   "source": [
    "items = ['banana','orange','apple']"
   ]
  },
  {
   "cell_type": "code",
   "execution_count": 20,
   "metadata": {},
   "outputs": [
    {
     "data": {
      "text/plain": [
       "[(0, 'banana'), (1, 'orange'), (2, 'apple')]"
      ]
     },
     "execution_count": 20,
     "metadata": {},
     "output_type": "execute_result"
    }
   ],
   "source": [
    "list(enumerate(items))"
   ]
  },
  {
   "cell_type": "code",
   "execution_count": 22,
   "metadata": {},
   "outputs": [
    {
     "data": {
      "text/plain": [
       "[(1, 'banana'), (2, 'orange'), (3, 'apple')]"
      ]
     },
     "execution_count": 22,
     "metadata": {},
     "output_type": "execute_result"
    }
   ],
   "source": [
    "# if you want to change the starting number\n",
    "\n",
    "list(enumerate(items, start=1))"
   ]
  },
  {
   "cell_type": "code",
   "execution_count": 24,
   "metadata": {},
   "outputs": [
    {
     "name": "stdout",
     "output_type": "stream",
     "text": [
      "1 banana\n",
      "2 orange\n",
      "3 apple\n"
     ]
    }
   ],
   "source": [
    "for i, item in enumerate(items, start=1):\n",
    "    print(i,item)"
   ]
  },
  {
   "cell_type": "markdown",
   "metadata": {},
   "source": [
    "### Casting (change string to integer)"
   ]
  },
  {
   "cell_type": "markdown",
   "metadata": {},
   "source": [
    "We casted a str to an int. We can do this for any of types. If the obj is not castable then we will get an Exception.\n",
    "\n",
    "***Question:*** Which of these conversions will work?"
   ]
  },
  {
   "cell_type": "code",
   "execution_count": 25,
   "metadata": {},
   "outputs": [
    {
     "data": {
      "text/plain": [
       "'True'"
      ]
     },
     "execution_count": 25,
     "metadata": {},
     "output_type": "execute_result"
    }
   ],
   "source": [
    "str(True)"
   ]
  },
  {
   "cell_type": "code",
   "execution_count": 26,
   "metadata": {},
   "outputs": [
    {
     "data": {
      "text/plain": [
       "10"
      ]
     },
     "execution_count": 26,
     "metadata": {},
     "output_type": "execute_result"
    }
   ],
   "source": [
    "int('10')"
   ]
  },
  {
   "cell_type": "code",
   "execution_count": 28,
   "metadata": {},
   "outputs": [
    {
     "data": {
      "text/plain": [
       "10.0"
      ]
     },
     "execution_count": 28,
     "metadata": {},
     "output_type": "execute_result"
    }
   ],
   "source": [
    "# floating point\n",
    "float('10.0')"
   ]
  },
  {
   "cell_type": "code",
   "execution_count": 29,
   "metadata": {},
   "outputs": [
    {
     "data": {
      "text/plain": [
       "(1, 3, 4)"
      ]
     },
     "execution_count": 29,
     "metadata": {},
     "output_type": "execute_result"
    }
   ],
   "source": [
    "tuple([1,3,4])"
   ]
  },
  {
   "cell_type": "code",
   "execution_count": 30,
   "metadata": {},
   "outputs": [
    {
     "data": {
      "text/plain": [
       "[1, 2, 3]"
      ]
     },
     "execution_count": 30,
     "metadata": {},
     "output_type": "execute_result"
    }
   ],
   "source": [
    "list((1,2,3))"
   ]
  },
  {
   "cell_type": "code",
   "execution_count": 35,
   "metadata": {},
   "outputs": [
    {
     "ename": "SyntaxError",
     "evalue": "invalid syntax (<ipython-input-35-c0c04e27ecb3>, line 2)",
     "output_type": "error",
     "traceback": [
      "\u001b[0;36m  File \u001b[0;32m\"<ipython-input-35-c0c04e27ecb3>\"\u001b[0;36m, line \u001b[0;32m2\u001b[0m\n\u001b[0;31m    dict(['1,'3','4'])\u001b[0m\n\u001b[0m              ^\u001b[0m\n\u001b[0;31mSyntaxError\u001b[0m\u001b[0;31m:\u001b[0m invalid syntax\n"
     ]
    }
   ],
   "source": [
    "# must be in pair or else error\n",
    "dict(['1,'3','4'])"
   ]
  },
  {
   "cell_type": "code",
   "execution_count": 34,
   "metadata": {},
   "outputs": [
    {
     "data": {
      "text/plain": [
       "{'a': 1, 'b': 2}"
      ]
     },
     "execution_count": 34,
     "metadata": {},
     "output_type": "execute_result"
    }
   ],
   "source": [
    "dict([('a',1),('b',2)])"
   ]
  },
  {
   "cell_type": "markdown",
   "metadata": {},
   "source": [
    "### Dunder methods\n",
    "\n",
    "So what's with all the '\\_\\_blah\\_\\_'?\n",
    "\n",
    "Object methods with two underscores are called \"dunder methods\". This stands for double underscore. These tell Python what to do in certain operations, for example \\_\\_eq\\_\\_ is a function to compare with another object and \\_\\_add\\_\\_ handles the + operation under the hood."
   ]
  },
  {
   "cell_type": "code",
   "execution_count": 36,
   "metadata": {},
   "outputs": [
    {
     "data": {
      "text/plain": [
       "['__add__',\n",
       " '__class__',\n",
       " '__contains__',\n",
       " '__delattr__',\n",
       " '__delitem__',\n",
       " '__dir__',\n",
       " '__doc__',\n",
       " '__eq__',\n",
       " '__format__',\n",
       " '__ge__',\n",
       " '__getattribute__',\n",
       " '__getitem__',\n",
       " '__gt__',\n",
       " '__hash__',\n",
       " '__iadd__',\n",
       " '__imul__',\n",
       " '__init__',\n",
       " '__init_subclass__',\n",
       " '__iter__',\n",
       " '__le__',\n",
       " '__len__',\n",
       " '__lt__',\n",
       " '__mul__',\n",
       " '__ne__',\n",
       " '__new__',\n",
       " '__reduce__',\n",
       " '__reduce_ex__',\n",
       " '__repr__',\n",
       " '__reversed__',\n",
       " '__rmul__',\n",
       " '__setattr__',\n",
       " '__setitem__',\n",
       " '__sizeof__',\n",
       " '__str__',\n",
       " '__subclasshook__',\n",
       " 'append',\n",
       " 'clear',\n",
       " 'copy',\n",
       " 'count',\n",
       " 'extend',\n",
       " 'index',\n",
       " 'insert',\n",
       " 'pop',\n",
       " 'remove',\n",
       " 'reverse',\n",
       " 'sort']"
      ]
     },
     "execution_count": 36,
     "metadata": {},
     "output_type": "execute_result"
    }
   ],
   "source": [
    "dir(list)"
   ]
  },
  {
   "cell_type": "markdown",
   "metadata": {},
   "source": [
    "We can get help on these methods as well."
   ]
  },
  {
   "cell_type": "code",
   "execution_count": 37,
   "metadata": {},
   "outputs": [
    {
     "name": "stdout",
     "output_type": "stream",
     "text": [
      "Help on wrapper_descriptor:\n",
      "\n",
      "__add__(self, value, /)\n",
      "    Return self+value.\n",
      "\n"
     ]
    }
   ],
   "source": [
    "help(list.__add__)"
   ]
  },
  {
   "cell_type": "code",
   "execution_count": 39,
   "metadata": {},
   "outputs": [
    {
     "data": {
      "text/plain": [
       "[1, 2, 3, 4, 5, 6]"
      ]
     },
     "execution_count": 39,
     "metadata": {},
     "output_type": "execute_result"
    }
   ],
   "source": [
    "list1 = [1,2,3]\n",
    "list2 = [4,5,6]\n",
    "\n",
    "list3 = list1 + list2\n",
    "list3"
   ]
  },
  {
   "cell_type": "code",
   "execution_count": 40,
   "metadata": {},
   "outputs": [
    {
     "data": {
      "text/plain": [
       "[1, 2, 3, 4, 5, 6]"
      ]
     },
     "execution_count": 40,
     "metadata": {},
     "output_type": "execute_result"
    }
   ],
   "source": [
    "list1.__add__(list2)"
   ]
  },
  {
   "cell_type": "markdown",
   "metadata": {},
   "source": [
    "So dunder method \\_\\_add\\_\\_ implements what happens when the + operator is applied."
   ]
  },
  {
   "cell_type": "markdown",
   "metadata": {},
   "source": [
    "### Summary - More on loops"
   ]
  },
  {
   "cell_type": "markdown",
   "metadata": {},
   "source": [
    "> #### while\n",
    "A while loop statement in Python programming language repeatedly executes a target statement as long as a given condition is true.\n",
    "```python\n",
    "while i < 5:\n",
    "    i+=1\n",
    "    print(i)\n",
    "```"
   ]
  },
  {
   "cell_type": "markdown",
   "metadata": {},
   "source": [
    "> #### range\n",
    "A sequence of integers from start (inclusive) to stop (exclusive) by step.\n",
    "```python\n",
    "range(5)\n",
    "range(1,6)\n",
    "range(0,11,2)\n",
    "for i in range(5):\n",
    "    print(i)\n",
    "```\n"
   ]
  },
  {
   "cell_type": "markdown",
   "metadata": {},
   "source": [
    "> #### enumerate\n",
    "Returns a tuple containing a count (default starts with 0) and the values obtained from iterating over iterable.\n",
    "```python\n",
    "items = ['orange','apple','mango']\n",
    "enumerate(items)\n",
    "for i,item in enumerate(items):\n",
    "    print(i,item)\n",
    "```"
   ]
  },
  {
   "cell_type": "markdown",
   "metadata": {},
   "source": [
    "> #### casting\n",
    "Specify a type on to a variable.\n",
    "```python\n",
    "int(\"10\")\n",
    "float(\"10.2\")\n",
    "dict([('a',1), ('b', 2)])\n",
    "```"
   ]
  },
  {
   "cell_type": "markdown",
   "metadata": {},
   "source": [
    "> #### dunder methods\n",
    "Double underscore methods. This is how Python operations as + and == or implemented for the object.\n",
    "```python\n",
    "str.__add__\n",
    "str.__eq__\n",
    "```"
   ]
  },
  {
   "cell_type": "markdown",
   "metadata": {
    "toc-hr-collapsed": false
   },
   "source": [
    "## List operations\n",
    "\n",
    "The list is a very power object with many functionalities. \n",
    "\n",
    "Here is an overview of the most important functionality.\n",
    "\n",
    "- len(dict) -- Gives the total length of the dictionary. This would be equal to the number of items in the dictionary.\n",
    "- list.clear() -- Removes all elements of the list\n",
    "- list.copy() -- Returns a shallow copy of the list\n",
    "- list.append(elem) -- adds a single element to the end of the list. Common error: does not return the new list, just modifies the original.\n",
    "- list.insert(index, elem) -- inserts the element at the given index, shifting elements to the right.\n",
    "- list.extend(list2) adds the elements in list2 to the end of the list. Using + or += on a list is similar to using extend().\n",
    "- list.index(elem) -- searches for the given element from the start of the list and returns its index. Throws a ValueError if the element does not appear (use \"in\" to check without a ValueError).\n",
    "- item in list -- check if the item is in the list\n",
    "- list.remove(elem) -- searches for the first instance of the given element and removes it (throws ValueError if not present)\n",
    "- list.sort() -- sorts the list in place (does not return it).\n",
    "- sorted(list) -- return sorted list but keeps the original order of the list\n",
    "- list.reverse() -- reverses the list in place (does not return it)\n",
    "- list.pop(index) -- removes and returns the element at the given index. Returns the rightmost element if index is omitted (roughly the opposite of append()).\n",
    "\n",
    "This is to give a overview, so that you know of the existence of these functionalities. Do you need to learn these by heart? No. Because you can always look it up using help() or dir() or the online python documentation."
   ]
  },
  {
   "cell_type": "markdown",
   "metadata": {},
   "source": [
    "Let's go through these functionalities. \n",
    "\n",
    "Create a list, show the size, clear it"
   ]
  },
  {
   "cell_type": "code",
   "execution_count": 41,
   "metadata": {},
   "outputs": [
    {
     "data": {
      "text/plain": [
       "[1, 2, 3, 4]"
      ]
     },
     "execution_count": 41,
     "metadata": {},
     "output_type": "execute_result"
    }
   ],
   "source": [
    "numbers = [1,2,3,4]\n",
    "numbers"
   ]
  },
  {
   "cell_type": "code",
   "execution_count": 42,
   "metadata": {},
   "outputs": [
    {
     "data": {
      "text/plain": [
       "4"
      ]
     },
     "execution_count": 42,
     "metadata": {},
     "output_type": "execute_result"
    }
   ],
   "source": [
    "len(numbers)"
   ]
  },
  {
   "cell_type": "code",
   "execution_count": 43,
   "metadata": {},
   "outputs": [
    {
     "data": {
      "text/plain": [
       "[]"
      ]
     },
     "execution_count": 43,
     "metadata": {},
     "output_type": "execute_result"
    }
   ],
   "source": [
    "numbers.clear()\n",
    "numbers"
   ]
  },
  {
   "cell_type": "markdown",
   "metadata": {},
   "source": [
    "You can use the list.copy() method when you want to copy the list and make a new object out of it."
   ]
  },
  {
   "cell_type": "code",
   "execution_count": 44,
   "metadata": {},
   "outputs": [
    {
     "name": "stdout",
     "output_type": "stream",
     "text": [
      "139847144155392\n",
      "139847144155392\n",
      "139847564036800\n"
     ]
    }
   ],
   "source": [
    "numbers = [1,2,3,4]\n",
    "numbers_2 = numbers\n",
    "numbers_3 = numbers.copy()\n",
    "\n",
    "print(id(numbers))\n",
    "print(id(numbers_2))\n",
    "print(id(numbers_3))\n"
   ]
  },
  {
   "cell_type": "markdown",
   "metadata": {},
   "source": [
    "Append an item at the end."
   ]
  },
  {
   "cell_type": "code",
   "execution_count": 47,
   "metadata": {},
   "outputs": [],
   "source": [
    "numbers.append(5)"
   ]
  },
  {
   "cell_type": "markdown",
   "metadata": {},
   "source": [
    "Notice this doesn't return a object. This is an in-place operation. The original object is changed. Now 5 is added to the list. Let's see what happened to variable's numbers_2 and numbers_3."
   ]
  },
  {
   "cell_type": "code",
   "execution_count": 48,
   "metadata": {},
   "outputs": [
    {
     "name": "stdout",
     "output_type": "stream",
     "text": [
      "[1, 2, 3, 4, 5, 5, 5]\n",
      "[1, 2, 3, 4, 5, 5, 5]\n",
      "[1, 2, 3, 4]\n"
     ]
    }
   ],
   "source": [
    "print(numbers)\n",
    "print(numbers_2)\n",
    "print(numbers_3)"
   ]
  },
  {
   "cell_type": "markdown",
   "metadata": {},
   "source": [
    "Be careful not to assign an in-place operation to a variable."
   ]
  },
  {
   "cell_type": "code",
   "execution_count": 49,
   "metadata": {},
   "outputs": [
    {
     "name": "stdout",
     "output_type": "stream",
     "text": [
      "numbers [1, 2, 3, 4, 5, 5, 5, 6]\n",
      "new_numbers [1, 2, 3, 4, 5, 5, 5, 6]\n"
     ]
    }
   ],
   "source": [
    "numbers.append(6)\n",
    "new_numbers = numbers\n",
    "\n",
    "print('numbers',numbers)\n",
    "print('new_numbers', new_numbers)"
   ]
  },
  {
   "cell_type": "markdown",
   "metadata": {},
   "source": [
    "Notice that the value of new_numbers is None. This is what happens when you assign an in-place operation to a variable.\n",
    "\n",
    "We can also insert an item anywhere in the list. This is also an inplace operation."
   ]
  },
  {
   "cell_type": "code",
   "execution_count": 52,
   "metadata": {},
   "outputs": [
    {
     "data": {
      "text/plain": [
       "[1, 2, 100, 100, 3, 4, 5, 5, 5, 6]"
      ]
     },
     "execution_count": 52,
     "metadata": {},
     "output_type": "execute_result"
    }
   ],
   "source": [
    "numbers.insert(2,100)\n",
    "numbers"
   ]
  },
  {
   "cell_type": "markdown",
   "metadata": {},
   "source": [
    "We can also extend a list with another list. Notice this in an in-place operation."
   ]
  },
  {
   "cell_type": "code",
   "execution_count": 53,
   "metadata": {},
   "outputs": [
    {
     "data": {
      "text/plain": [
       "[1, 2, 100, 100, 3, 4, 5, 5, 5, 6, 1, 2, 3, 4, 6, 7]"
      ]
     },
     "execution_count": 53,
     "metadata": {},
     "output_type": "execute_result"
    }
   ],
   "source": [
    "numbers.extend([1,2,3,4,6,7])\n",
    "numbers"
   ]
  },
  {
   "cell_type": "markdown",
   "metadata": {},
   "source": [
    "We can add two lists with the + operator."
   ]
  },
  {
   "cell_type": "code",
   "execution_count": 54,
   "metadata": {},
   "outputs": [
    {
     "data": {
      "text/plain": [
       "[1, 2, 4, 1, 4, 5]"
      ]
     },
     "execution_count": 54,
     "metadata": {},
     "output_type": "execute_result"
    }
   ],
   "source": [
    "[1,2,4] + [1,4,5]"
   ]
  },
  {
   "cell_type": "markdown",
   "metadata": {},
   "source": [
    "We can get the index of the first occurence of an item."
   ]
  },
  {
   "cell_type": "code",
   "execution_count": 61,
   "metadata": {},
   "outputs": [
    {
     "data": {
      "text/plain": [
       "[1,\n",
       " 2,\n",
       " 100,\n",
       " 100,\n",
       " 3,\n",
       " 4,\n",
       " 5,\n",
       " 5,\n",
       " 5,\n",
       " 6,\n",
       " 1,\n",
       " 2,\n",
       " 3,\n",
       " 4,\n",
       " 6,\n",
       " 7,\n",
       " [10, 20, 30],\n",
       " [10, 20, 30],\n",
       " [10, 20, 30],\n",
       " [10, 20, 30],\n",
       " [10, 20, 30],\n",
       " [10, 20, 30]]"
      ]
     },
     "execution_count": 61,
     "metadata": {},
     "output_type": "execute_result"
    }
   ],
   "source": [
    "numbers.append([10,20,30])\n",
    "numbers"
   ]
  },
  {
   "cell_type": "markdown",
   "metadata": {},
   "source": [
    "And then get the list until the 10 value."
   ]
  },
  {
   "cell_type": "code",
   "execution_count": 62,
   "metadata": {},
   "outputs": [
    {
     "name": "stdout",
     "output_type": "stream",
     "text": [
      "[1, 2, 100, 100, 3, 4, 5, 5, 5, 6, 1, 2, 3, 4, 6, 7, [10, 20, 30], [10, 20, 30], [10, 20, 30], [10, 20, 30], [10, 20, 30], [10, 20, 30]]\n"
     ]
    },
    {
     "ename": "ValueError",
     "evalue": "10 is not in list",
     "output_type": "error",
     "traceback": [
      "\u001b[0;31m---------------------------------------------------------------------------\u001b[0m",
      "\u001b[0;31mValueError\u001b[0m                                Traceback (most recent call last)",
      "\u001b[0;32m<ipython-input-62-8bfafaa5521c>\u001b[0m in \u001b[0;36m<module>\u001b[0;34m\u001b[0m\n\u001b[1;32m      1\u001b[0m \u001b[0mprint\u001b[0m\u001b[0;34m(\u001b[0m\u001b[0mnumbers\u001b[0m\u001b[0;34m)\u001b[0m\u001b[0;34m\u001b[0m\u001b[0;34m\u001b[0m\u001b[0m\n\u001b[0;32m----> 2\u001b[0;31m \u001b[0mprint\u001b[0m\u001b[0;34m(\u001b[0m\u001b[0mnumbers\u001b[0m\u001b[0;34m[\u001b[0m\u001b[0;36m0\u001b[0m\u001b[0;34m:\u001b[0m\u001b[0mnumbers\u001b[0m\u001b[0;34m.\u001b[0m\u001b[0mindex\u001b[0m\u001b[0;34m(\u001b[0m\u001b[0;36m10\u001b[0m\u001b[0;34m)\u001b[0m\u001b[0;34m]\u001b[0m\u001b[0;34m)\u001b[0m\u001b[0;34m\u001b[0m\u001b[0;34m\u001b[0m\u001b[0m\n\u001b[0m",
      "\u001b[0;31mValueError\u001b[0m: 10 is not in list"
     ]
    }
   ],
   "source": [
    "print(numbers)\n",
    "print(numbers[0:numbers.index(10)])"
   ]
  },
  {
   "cell_type": "markdown",
   "metadata": {},
   "source": [
    "Check if the list numbers holds 200."
   ]
  },
  {
   "cell_type": "code",
   "execution_count": 63,
   "metadata": {},
   "outputs": [
    {
     "data": {
      "text/plain": [
       "False"
      ]
     },
     "execution_count": 63,
     "metadata": {},
     "output_type": "execute_result"
    }
   ],
   "source": [
    "200 in numbers"
   ]
  },
  {
   "cell_type": "markdown",
   "metadata": {},
   "source": [
    "We can remove an item. It will remove the first occurence of that item."
   ]
  },
  {
   "cell_type": "code",
   "execution_count": 67,
   "metadata": {},
   "outputs": [
    {
     "data": {
      "text/plain": [
       "[2,\n",
       " 100,\n",
       " 100,\n",
       " 3,\n",
       " 4,\n",
       " 5,\n",
       " 5,\n",
       " 5,\n",
       " 1,\n",
       " 2,\n",
       " 3,\n",
       " 4,\n",
       " 6,\n",
       " 7,\n",
       " [10, 20, 30],\n",
       " [10, 20, 30],\n",
       " [10, 20, 30],\n",
       " [10, 20, 30],\n",
       " [10, 20, 30],\n",
       " [10, 20, 30]]"
      ]
     },
     "execution_count": 67,
     "metadata": {},
     "output_type": "execute_result"
    }
   ],
   "source": [
    "numbers.remove(6)\n",
    "numbers"
   ]
  },
  {
   "cell_type": "markdown",
   "metadata": {},
   "source": [
    "We can sort the list in-place."
   ]
  },
  {
   "cell_type": "code",
   "execution_count": 71,
   "metadata": {},
   "outputs": [
    {
     "name": "stdout",
     "output_type": "stream",
     "text": [
      "[1, 2, 200, 5]\n"
     ]
    },
    {
     "data": {
      "text/plain": [
       "[1, 2, 5, 200]"
      ]
     },
     "execution_count": 71,
     "metadata": {},
     "output_type": "execute_result"
    }
   ],
   "source": [
    "numbers = [1,2,200,5]\n",
    "\n",
    "print(numbers)\n",
    "numbers.sort()\n",
    "numbers"
   ]
  },
  {
   "cell_type": "markdown",
   "metadata": {},
   "source": [
    "We can also sort reversed by adding keyword argument reverse=True. The sorted() built-in function returns a sorted list but it does not affect the original."
   ]
  },
  {
   "cell_type": "code",
   "execution_count": 76,
   "metadata": {},
   "outputs": [
    {
     "name": "stdout",
     "output_type": "stream",
     "text": [
      "[200, 5, 2, 1]\n"
     ]
    },
    {
     "data": {
      "text/plain": [
       "[200, 5, 2, 1]"
      ]
     },
     "execution_count": 76,
     "metadata": {},
     "output_type": "execute_result"
    }
   ],
   "source": [
    "print(sorted(numbers, reverse=True))\n",
    "numbers"
   ]
  },
  {
   "cell_type": "markdown",
   "metadata": {},
   "source": [
    "We can reverse a list in place."
   ]
  },
  {
   "cell_type": "code",
   "execution_count": 78,
   "metadata": {},
   "outputs": [
    {
     "name": "stdout",
     "output_type": "stream",
     "text": [
      "[10, 20, 500, 60, 50]\n"
     ]
    },
    {
     "data": {
      "text/plain": [
       "[50, 60, 500, 20, 10]"
      ]
     },
     "execution_count": 78,
     "metadata": {},
     "output_type": "execute_result"
    }
   ],
   "source": [
    "numbers = [10,20,500,60,50]\n",
    "print(numbers)\n",
    "numbers.reverse()\n",
    "numbers"
   ]
  },
  {
   "cell_type": "markdown",
   "metadata": {},
   "source": [
    "The pop function returns the last items and removes it from the list."
   ]
  },
  {
   "cell_type": "code",
   "execution_count": 3,
   "metadata": {},
   "outputs": [
    {
     "name": "stdout",
     "output_type": "stream",
     "text": [
      "[10, 20, 500, 60] 50\n",
      "[10, 20, 500] 60\n",
      "[10, 20] 500\n",
      "[10] 20\n",
      "[] 10\n"
     ]
    }
   ],
   "source": [
    "numbers = [10,20,500,60,50]\n",
    "while numbers:\n",
    "    print(numbers, numbers.pop())"
   ]
  },
  {
   "cell_type": "markdown",
   "metadata": {},
   "source": [
    "A list can be casted to a bool, which happens if a list is evaluated like here in the while statement."
   ]
  },
  {
   "cell_type": "code",
   "execution_count": 4,
   "metadata": {},
   "outputs": [
    {
     "data": {
      "text/plain": [
       "True"
      ]
     },
     "execution_count": 4,
     "metadata": {},
     "output_type": "execute_result"
    }
   ],
   "source": [
    "bool([1,2,3])"
   ]
  },
  {
   "cell_type": "code",
   "execution_count": 5,
   "metadata": {},
   "outputs": [
    {
     "data": {
      "text/plain": [
       "False"
      ]
     },
     "execution_count": 5,
     "metadata": {},
     "output_type": "execute_result"
    }
   ],
   "source": [
    "bool([])"
   ]
  },
  {
   "cell_type": "markdown",
   "metadata": {},
   "source": [
    "This can be used as while loop controller to break out of the loop."
   ]
  },
  {
   "cell_type": "markdown",
   "metadata": {
    "toc-hr-collapsed": false
   },
   "source": [
    "### Summary - List operations"
   ]
  },
  {
   "cell_type": "markdown",
   "metadata": {},
   "source": [
    "> #### list operations\n",
    "The list is a powerful object with many functionalities. The list is a mutable object.\n",
    "```python\n",
    "numbers = []\n",
    "numbers = [1,2,3,4]\n",
    "numbers[0]\n",
    "numbers[0] == 100\n",
    "numbers.append(0)\n",
    "numbers.insert(1, 100) # insert at index 1\n",
    "numbers.extend([5,6,7])\n",
    "numbers.remove(5)\n",
    "numbers.copy()\n",
    "numbers.clear()\n",
    "numbers.index(5)\n",
    "numbers.sort()\n",
    "numbers.sort(reverse=True)\n",
    "item = numbers.pop()\n",
    "sorted(numbers, reverse=True)\n",
    "5 in numbers\n",
    "len(numbers)\n",
    "```"
   ]
  },
  {
   "cell_type": "markdown",
   "metadata": {
    "toc-hr-collapsed": false
   },
   "source": [
    "### RUN ME\n",
    "\n",
    "Please run the below code snippet. It is required for running tests for your solution."
   ]
  },
  {
   "cell_type": "code",
   "execution_count": 6,
   "metadata": {},
   "outputs": [],
   "source": [
    "def test(got, expected):\n",
    "    if got == expected:\n",
    "        prefix = ' OK '\n",
    "    else:\n",
    "        prefix = '  FAIL '\n",
    "    print(('%s got: %s expected: %s' % (prefix, repr(got), repr(expected))))"
   ]
  },
  {
   "cell_type": "code",
   "execution_count": 7,
   "metadata": {},
   "outputs": [
    {
     "name": "stdout",
     "output_type": "stream",
     "text": [
      "  FAIL  got: 'a' expected: 'ab'\n",
      " OK  got: 'a' expected: 'a'\n"
     ]
    }
   ],
   "source": [
    "test('a', 'ab')\n",
    "test('a', 'a')"
   ]
  },
  {
   "cell_type": "markdown",
   "metadata": {},
   "source": [
    "### Exercises - List operations"
   ]
  },
  {
   "cell_type": "markdown",
   "metadata": {},
   "source": [
    "#### Exercise 1 - Month days\n",
    "\n",
    "Define a function that inputs a string and returns the numbers of days in that month.\n",
    "\n",
    "Hints: help(str.index)"
   ]
  },
  {
   "cell_type": "code",
   "execution_count": 8,
   "metadata": {},
   "outputs": [
    {
     "name": "stdout",
     "output_type": "stream",
     "text": [
      "month_days\n",
      " OK  got: 31 expected: 31\n",
      " OK  got: 28 expected: 28\n",
      " OK  got: 30 expected: 30\n",
      " OK  got: 31 expected: 31\n"
     ]
    }
   ],
   "source": [
    "months = [\"January\", \"February\", \"March\", \"April\", \"May\", \"June\", \"July\",\\\n",
    "          \"August\", \"September\", \"October\", \"November\", \"December\"]\n",
    "days = [31,28,31,30,31,30,31,31,30,31,30,31]\n",
    "\n",
    "def month_days(month):\n",
    "    i = months.index(month)\n",
    "    return days[i]\n",
    "\n",
    "print(\"month_days\")\n",
    "test(month_days(\"January\"), 31)\n",
    "test(month_days(\"February\"), 28)\n",
    "test(month_days(\"September\"), 30)\n",
    "test(month_days(\"December\"), 31)"
   ]
  },
  {
   "cell_type": "code",
   "execution_count": null,
   "metadata": {},
   "outputs": [],
   "source": []
  },
  {
   "cell_type": "markdown",
   "metadata": {},
   "source": [
    "#### Exercise 3 - Get unevens\n",
    "\n",
    "Define a function called remove_even that returns a list after removing the even numbers from it.\n",
    "\n",
    "Hints: define a new list, help(str.append)"
   ]
  },
  {
   "cell_type": "code",
   "execution_count": 11,
   "metadata": {},
   "outputs": [
    {
     "name": "stdout",
     "output_type": "stream",
     "text": [
      "get_unevens\n",
      " OK  got: [7, 25, 27] expected: [7, 25, 27]\n"
     ]
    }
   ],
   "source": [
    "num = [7,8, 120, 25, 44, 20, 27]\n",
    "\n",
    "new_list = []\n",
    "\n",
    "def remove_even(num):\n",
    "    for i in num:\n",
    "        if i % 2 != 0:\n",
    "            new_list.append(i)\n",
    "    return new_list\n",
    "        \n",
    "\n",
    "print(\"get_unevens\")\n",
    "test(remove_even(num), [7,25,27])"
   ]
  },
  {
   "cell_type": "markdown",
   "metadata": {},
   "source": [
    "#### Exercise 4 - Sum top\n",
    "\n",
    "What is the total of the 3 highest numbers in this list?\n",
    "\n",
    "Hints: sorted()[:3]"
   ]
  },
  {
   "cell_type": "code",
   "execution_count": 16,
   "metadata": {},
   "outputs": [
    {
     "name": "stdout",
     "output_type": "stream",
     "text": [
      "sum_top\n",
      " OK  got: 505 expected: 505\n"
     ]
    }
   ],
   "source": [
    "numbers = [50, 23, 1, -50, 4, 400, 55, 32]\n",
    "\n",
    "def sum_top(numbers):\n",
    "    return sum(sorted(numbers)[-3:])\n",
    "\n",
    "print(\"sum_top\")\n",
    "test(sum_top(numbers), 505)"
   ]
  },
  {
   "cell_type": "markdown",
   "metadata": {},
   "source": [
    "#### Exercise 5 - Match ends \n",
    "\n",
    "Given a list of strings, return the count of the number of\n",
    "strings where the string length is 2 or more and the first\n",
    "and last chars of the string are the same. <br/>"
   ]
  },
  {
   "cell_type": "code",
   "execution_count": 24,
   "metadata": {},
   "outputs": [
    {
     "name": "stdout",
     "output_type": "stream",
     "text": [
      " OK  got: 3 expected: 3\n",
      " OK  got: 2 expected: 2\n",
      " OK  got: 1 expected: 1\n"
     ]
    }
   ],
   "source": [
    "text1 = (['aba', 'xyz', 'aa', 'x', 'bbb']) #3\n",
    "text2 = (['', 'x', 'xy', 'xyx', 'xx']) #2\n",
    "text3 = (['aaa', 'be', 'abc', 'hello']) #1\n",
    "\n",
    "def match_ends(words):\n",
    "    counter = 0\n",
    "    for word in words:\n",
    "        if len(word) >= 2 and word[0] == word[-1]:\n",
    "            counter += 1\n",
    "    return counter\n",
    "\n",
    "# TEST\n",
    "test(match_ends(text1), 3)\n",
    "test(match_ends(text2), 2)\n",
    "test(match_ends(text3), 1)"
   ]
  },
  {
   "cell_type": "code",
   "execution_count": null,
   "metadata": {},
   "outputs": [],
   "source": []
  },
  {
   "cell_type": "markdown",
   "metadata": {
    "toc-hr-collapsed": false
   },
   "source": [
    "## Dictionary operations\n",
    "\n",
    "A dictionary is a collection of key-value pairs. It is used to look up things and a very common used type. Notice the { } curly brackets and the \"key\": \"value\" notation. Notice the squared bracket for looking up.\n",
    "\n",
    "- len(dict) -- Gives the total length of the dictionary. This would be equal to the number of items in the dictionary.\n",
    "- dict.clear() -- Removes all elements of dictionary dict\n",
    "- dict.copy() -- Returns a shallow copy of dictionary dict\n",
    "- dict.update(dict2) -- Adds dictionary dict2's key-values pairs to dict\n",
    "- dict.fromkeys() -- Create a new dictionary with keys from seq and values set to value.\n",
    "- dict.get(key, default=None) -- For key key, returns value or default if key not in dictionary\n",
    "- dict.setdefault(key, default=None) -- Similar to get(), but will set dict[key]=default if key is not already in dict\n",
    "- dict.items() -- Returns a iterator of dict's (key, value) tuple pairs\n",
    "- dict.keys() -- Returns iterator of dictionary dict's keys\n",
    "- dict.values() -- Returns list of dictionary dict's values\n"
   ]
  },
  {
   "cell_type": "markdown",
   "metadata": {},
   "source": [
    "Let's create a dictionary to go try out these functionalities."
   ]
  },
  {
   "cell_type": "code",
   "execution_count": 183,
   "metadata": {},
   "outputs": [
    {
     "data": {
      "text/plain": [
       "1.5"
      ]
     },
     "execution_count": 183,
     "metadata": {},
     "output_type": "execute_result"
    }
   ],
   "source": [
    "prices = {'apple': 1.5, 'orange': 3.25}\n",
    "prices['apple']"
   ]
  },
  {
   "cell_type": "markdown",
   "metadata": {},
   "source": [
    "The dictionary has now 2 items."
   ]
  },
  {
   "cell_type": "code",
   "execution_count": 31,
   "metadata": {},
   "outputs": [
    {
     "data": {
      "text/plain": [
       "2"
      ]
     },
     "execution_count": 31,
     "metadata": {},
     "output_type": "execute_result"
    }
   ],
   "source": [
    "len(prices)"
   ]
  },
  {
   "cell_type": "markdown",
   "metadata": {},
   "source": [
    "We can copy and clear similar as a list."
   ]
  },
  {
   "cell_type": "code",
   "execution_count": 32,
   "metadata": {},
   "outputs": [
    {
     "name": "stdout",
     "output_type": "stream",
     "text": [
      "{}\n",
      "{}\n",
      "{'apple': 1.5, 'orange': 3.25}\n"
     ]
    }
   ],
   "source": [
    "prices_2 = prices\n",
    "prices_3 = prices.copy()\n",
    "\n",
    "prices.clear()\n",
    "\n",
    "print(prices)\n",
    "print(prices_2)\n",
    "print(prices_3)"
   ]
  },
  {
   "cell_type": "code",
   "execution_count": 33,
   "metadata": {},
   "outputs": [],
   "source": [
    "prices = prices_3"
   ]
  },
  {
   "cell_type": "markdown",
   "metadata": {},
   "source": [
    "The dictionary is  mutable like a list. This is how we can update the dictionary with a new value."
   ]
  },
  {
   "cell_type": "code",
   "execution_count": 34,
   "metadata": {},
   "outputs": [
    {
     "data": {
      "text/plain": [
       "{'apple': 1.5, 'orange': 3.25, 'banana': 2.3}"
      ]
     },
     "execution_count": 34,
     "metadata": {},
     "output_type": "execute_result"
    }
   ],
   "source": [
    "prices['banana'] = 2.3\n",
    "prices"
   ]
  },
  {
   "cell_type": "markdown",
   "metadata": {},
   "source": [
    "To update one dictionary with the another dictionary we can use update. Notice this is an in-place operation."
   ]
  },
  {
   "cell_type": "code",
   "execution_count": 35,
   "metadata": {},
   "outputs": [
    {
     "data": {
      "text/plain": [
       "{'apple': 1.5, 'orange': 3.25, 'banana': 2.3, 'mango': 1.22, 'durian': 5.6}"
      ]
     },
     "execution_count": 35,
     "metadata": {},
     "output_type": "execute_result"
    }
   ],
   "source": [
    "prices.update({'mango': 1.22, 'durian': 5.6})\n",
    "prices"
   ]
  },
  {
   "cell_type": "markdown",
   "metadata": {},
   "source": [
    "You can initiate a dictionary with a list of keys."
   ]
  },
  {
   "cell_type": "code",
   "execution_count": 36,
   "metadata": {},
   "outputs": [
    {
     "name": "stdout",
     "output_type": "stream",
     "text": [
      "Help on built-in function fromkeys:\n",
      "\n",
      "fromkeys(iterable, value=None, /) method of builtins.type instance\n",
      "    Create a new dictionary with keys from iterable and values set to value.\n",
      "\n"
     ]
    }
   ],
   "source": [
    "help(dict.fromkeys)"
   ]
  },
  {
   "cell_type": "code",
   "execution_count": 37,
   "metadata": {},
   "outputs": [
    {
     "data": {
      "text/plain": [
       "{'jeremy': [], 'jan': [], 'akmal': []}"
      ]
     },
     "execution_count": 37,
     "metadata": {},
     "output_type": "execute_result"
    }
   ],
   "source": [
    "keys = ['jeremy', 'jan','akmal']\n",
    "dict.fromkeys(keys,[])"
   ]
  },
  {
   "cell_type": "markdown",
   "metadata": {},
   "source": [
    "We can get values out of the dictionary in these 3 ways.\n",
    "\n",
    "1. prices[\"orange\"] -- simple. throws error when \"orange\" is not in the dict.\n",
    "2. prices.get(\"orange\") -- returns None or a default when \"orange\" is not in the dict.\n",
    "3. prices.setdefault(\"orange\", 1) -- returns None or a default when \"orange\" is not in the dict and updates the dictionary with the default."
   ]
  },
  {
   "cell_type": "code",
   "execution_count": 38,
   "metadata": {},
   "outputs": [
    {
     "data": {
      "text/plain": [
       "3.25"
      ]
     },
     "execution_count": 38,
     "metadata": {},
     "output_type": "execute_result"
    }
   ],
   "source": [
    "prices['orange']"
   ]
  },
  {
   "cell_type": "markdown",
   "metadata": {},
   "source": [
    "Stay calm."
   ]
  },
  {
   "cell_type": "code",
   "execution_count": 39,
   "metadata": {},
   "outputs": [
    {
     "ename": "KeyError",
     "evalue": "'pineapple'",
     "output_type": "error",
     "traceback": [
      "\u001b[0;31m---------------------------------------------------------------------------\u001b[0m",
      "\u001b[0;31mKeyError\u001b[0m                                  Traceback (most recent call last)",
      "\u001b[0;32m<ipython-input-39-ac0eb48776d4>\u001b[0m in \u001b[0;36m<module>\u001b[0;34m\u001b[0m\n\u001b[0;32m----> 1\u001b[0;31m \u001b[0mprices\u001b[0m\u001b[0;34m[\u001b[0m\u001b[0;34m'pineapple'\u001b[0m\u001b[0;34m]\u001b[0m\u001b[0;34m\u001b[0m\u001b[0;34m\u001b[0m\u001b[0m\n\u001b[0m",
      "\u001b[0;31mKeyError\u001b[0m: 'pineapple'"
     ]
    }
   ],
   "source": [
    "prices['pineapple']"
   ]
  },
  {
   "cell_type": "markdown",
   "metadata": {},
   "source": [
    "Since 'pineapple' is not in the dictionary this throws a KeyError."
   ]
  },
  {
   "cell_type": "code",
   "execution_count": 45,
   "metadata": {},
   "outputs": [],
   "source": [
    "# error is not good, use this to avoid error\n",
    "prices.get('pineapple')"
   ]
  },
  {
   "cell_type": "code",
   "execution_count": 46,
   "metadata": {},
   "outputs": [
    {
     "data": {
      "text/plain": [
       "1.0"
      ]
     },
     "execution_count": 46,
     "metadata": {},
     "output_type": "execute_result"
    }
   ],
   "source": [
    "prices.get('pineapple', 1.0)"
   ]
  },
  {
   "cell_type": "code",
   "execution_count": 47,
   "metadata": {},
   "outputs": [
    {
     "data": {
      "text/plain": [
       "{'apple': 1.5, 'orange': 3.25, 'banana': 2.3, 'mango': 1.22, 'durian': 5.6}"
      ]
     },
     "execution_count": 47,
     "metadata": {},
     "output_type": "execute_result"
    }
   ],
   "source": [
    "prices"
   ]
  },
  {
   "cell_type": "markdown",
   "metadata": {},
   "source": [
    "Let's say we have a dictionary of lists. We can use setdefault and append in one go."
   ]
  },
  {
   "cell_type": "code",
   "execution_count": 49,
   "metadata": {},
   "outputs": [
    {
     "name": "stdout",
     "output_type": "stream",
     "text": [
      "{'apple': 1.5, 'orange': 3.25, 'banana': 2.3, 'mango': 1.22, 'durian': 5.6, 'pineapple': 1.0}\n",
      "1.0\n",
      "{'apple': 1.5, 'orange': 3.25, 'banana': 2.3, 'mango': 1.22, 'durian': 5.6, 'pineapple': 1.0}\n"
     ]
    }
   ],
   "source": [
    "print(prices)\n",
    "print(prices.setdefault('pineapple', 1.0))\n",
    "print(prices)"
   ]
  },
  {
   "cell_type": "markdown",
   "metadata": {},
   "source": [
    "Back to the fruit prices.\n",
    "\n",
    "These 3 methods can be used for looping over dictionaries.\n",
    "\n",
    "1. prices.keys() -- the keys\n",
    "2. prices.values() -- the values\n",
    "3. prices.items() -- the key-value pairs"
   ]
  },
  {
   "cell_type": "code",
   "execution_count": 53,
   "metadata": {},
   "outputs": [
    {
     "data": {
      "text/plain": [
       "dict_values([1.5, 3.25, 2.3, 1.22, 5.6, 1.0])"
      ]
     },
     "execution_count": 53,
     "metadata": {},
     "output_type": "execute_result"
    }
   ],
   "source": [
    "prices.values()"
   ]
  },
  {
   "cell_type": "markdown",
   "metadata": {},
   "source": [
    "By default looping over a dictionary gives you the keys."
   ]
  },
  {
   "cell_type": "code",
   "execution_count": 54,
   "metadata": {},
   "outputs": [
    {
     "data": {
      "text/plain": [
       "dict_keys(['apple', 'orange', 'banana', 'mango', 'durian', 'pineapple'])"
      ]
     },
     "execution_count": 54,
     "metadata": {},
     "output_type": "execute_result"
    }
   ],
   "source": [
    "prices.keys()"
   ]
  },
  {
   "cell_type": "markdown",
   "metadata": {},
   "source": [
    "The best way to loop over the key-value pairs is using prices.items()"
   ]
  },
  {
   "cell_type": "code",
   "execution_count": 55,
   "metadata": {},
   "outputs": [
    {
     "data": {
      "text/plain": [
       "dict_items([('apple', 1.5), ('orange', 3.25), ('banana', 2.3), ('mango', 1.22), ('durian', 5.6), ('pineapple', 1.0)])"
      ]
     },
     "execution_count": 55,
     "metadata": {},
     "output_type": "execute_result"
    }
   ],
   "source": [
    "prices.items()"
   ]
  },
  {
   "cell_type": "markdown",
   "metadata": {},
   "source": [
    "### Summary - Dictionary operations"
   ]
  },
  {
   "cell_type": "markdown",
   "metadata": {},
   "source": [
    "> #### dictionary operations\n",
    "Dictionary. A collection of key-value pairs. Used to look up things. The dict class provides many functionalities. The dict is a mutable object.\n",
    "```python\n",
    "prices = {}\n",
    "prices = {\"apple\": 1.5, \"orange\":3.5, \"banana\":2.5}\n",
    "prices[\"mango\"] = 2.0\n",
    "prices.update({\"strawberry\":4.0, \"melon\":10.0})\n",
    "prices[\"orange\"]\n",
    "prices.get(\"pineapple\", 1.0)\n",
    "prices.setdefault(\"pineapple\", 1.0)\n",
    "prices.keys()\n",
    "prices.values()\n",
    "prices.items()\n",
    "for k in price:\n",
    "    print(k)\n",
    "for k,v in prices.items():\n",
    "    print(k,v)\n",
    "prices.clear()\n",
    "prices.copy()\n",
    "prices.fromkeys([\"apple\", \"orange\", \"banana\"], 1.0)\n",
    "len(prices)\n",
    "```"
   ]
  },
  {
   "cell_type": "markdown",
   "metadata": {
    "toc-hr-collapsed": false
   },
   "source": [
    "### RUN ME\n",
    "\n",
    "Please run the below code snippet. It is required for running tests for your solution."
   ]
  },
  {
   "cell_type": "code",
   "execution_count": 56,
   "metadata": {},
   "outputs": [],
   "source": [
    "def test(got, expected):\n",
    "    if got == expected:\n",
    "        prefix = ' OK '\n",
    "    else:\n",
    "        prefix = '  FAIL '\n",
    "    print(('%s got: %s expected: %s' % (prefix, repr(got), repr(expected))))"
   ]
  },
  {
   "cell_type": "code",
   "execution_count": 57,
   "metadata": {},
   "outputs": [
    {
     "name": "stdout",
     "output_type": "stream",
     "text": [
      "  FAIL  got: 'a' expected: 'ab'\n",
      " OK  got: 'a' expected: 'a'\n"
     ]
    }
   ],
   "source": [
    "test('a', 'ab')\n",
    "test('a', 'a')"
   ]
  },
  {
   "cell_type": "markdown",
   "metadata": {},
   "source": [
    "### Exercises - Dictionary operations"
   ]
  },
  {
   "cell_type": "markdown",
   "metadata": {},
   "source": [
    "#### Exercise 1 - Numbers info\n",
    "\n",
    "Given a list of numbers return a dictionary with info about the numbers. The dictionary should contain keys \"len\", \"max\", \"min\", \"sum\", \"avg\" with those measures as the respective values. Round avg to 2 decimals.\n",
    "\n",
    "Hints: sum()/len()"
   ]
  },
  {
   "cell_type": "code",
   "execution_count": 60,
   "metadata": {},
   "outputs": [
    {
     "name": "stdout",
     "output_type": "stream",
     "text": [
      "numbers_info\n",
      " OK  got: {'avg': 11.0, 'len': 5, 'max': 25, 'min': 1, 'sum': 55} expected: {'avg': 11.0, 'len': 5, 'max': 25, 'min': 1, 'sum': 55}\n"
     ]
    }
   ],
   "source": [
    "numbers = [1, 4, 9, 16, 25]\n",
    "\n",
    "def info(numbers):\n",
    "    return {'avg': sum(numbers)/len(numbers), 'len': len(numbers), 'max': max(numbers), 'min': min(numbers), 'sum': sum(numbers)}\n",
    "    \n",
    "    \n",
    "    \n",
    "\n",
    "print(\"numbers_info\")\n",
    "test(info(numbers), {'avg': 11.0, 'len': 5, 'max': 25, 'min': 1, 'sum': 55})"
   ]
  },
  {
   "cell_type": "markdown",
   "metadata": {},
   "source": [
    "#### Exercice 2 - Cart checkout\n",
    "Compute the total price of this cart. By default everything cost RM 1, except when prices are written.\n",
    "\n",
    "Hints: dict.get(), dict.items()"
   ]
  },
  {
   "cell_type": "code",
   "execution_count": 64,
   "metadata": {},
   "outputs": [],
   "source": [
    "cart = {'apple':12, \n",
    "       'banana': 1,\n",
    "       'orange': 2,\n",
    "       'pear':10}\n",
    "\n",
    "prices = {'mango':12,\n",
    "         'apple':2.5,\n",
    "         'orange':5.5,\n",
    "         'banana':3}"
   ]
  },
  {
   "cell_type": "code",
   "execution_count": 84,
   "metadata": {},
   "outputs": [
    {
     "name": "stdout",
     "output_type": "stream",
     "text": [
      "apple 12\n",
      "banana 1\n",
      "orange 2\n",
      "pear 10\n",
      "cart_checkout\n",
      " OK  got: 54.0 expected: 54.0\n"
     ]
    }
   ],
   "source": [
    "total=0\n",
    "\n",
    "for k,v in cart.items():\n",
    "    print(k,v)\n",
    "    total += v * prices.get(k, 1)\n",
    "\n",
    "\n",
    "print(\"cart_checkout\")\n",
    "test(total, 54.0)"
   ]
  },
  {
   "cell_type": "markdown",
   "metadata": {},
   "source": [
    "#### Exercise 3 - Grade students\n",
    "1. Write a function that add a grade to a student. Make sure the function can handle new students!\n",
    "1. Add 20 to Jan, add 11 to Jeremy and add 5 to Darren\n",
    "1. Compute the average grade of Jeremy. Round it to 2 decimals\n",
    "\n",
    "Hints: dict.setdefault, sum()/len()"
   ]
  },
  {
   "cell_type": "code",
   "execution_count": 100,
   "metadata": {},
   "outputs": [
    {
     "name": "stdout",
     "output_type": "stream",
     "text": [
      "grade_students\n",
      " OK  got: {'Akmal': [12, 14, 20], 'Jeremy': [5, 12, 11], 'Jan': [10, 20], 'Darren': [5]} expected: {'Akmal': [12, 14, 20], 'Jeremy': [5, 12, 11], 'Jan': [10, 20], 'Darren': [5]}\n",
      " OK  got: 9.33 expected: 9.33\n"
     ]
    }
   ],
   "source": [
    "grades = {\n",
    "    'Akmal':[12, 14, 20],\n",
    "    'Jeremy':[5, 12],\n",
    "    'Jan':[10]\n",
    "}\n",
    "\n",
    "# 1. Write a function that adds a grade to a student.\n",
    "\n",
    "def add_grade(student_name, grade):\n",
    "    return grades.setdefault(student_name, []).append(grade)\n",
    "   \n",
    "# 2. Add 20 to Jan, add 11 to Jeremy and add 5 to Darren\n",
    "\n",
    "add_grade('Jan', 20)\n",
    "add_grade('Jeremy', 11)\n",
    "add_grade('Darren', 5)\n",
    "\n",
    "# 3. Compute the average grade of Jeremy\n",
    "\n",
    "average_jeremy = round(sum(grades['Jeremy'])/len(grades['Jeremy']),2)\n",
    "\n",
    "# TEST\n",
    "print(\"grade_students\")\n",
    "test(grades, {'Akmal': [12, 14, 20], 'Jeremy': [5, 12, 11], 'Jan': [10, 20], 'Darren': [5]})\n",
    "test(average_jeremy, 9.33)"
   ]
  },
  {
   "cell_type": "code",
   "execution_count": null,
   "metadata": {},
   "outputs": [],
   "source": []
  },
  {
   "cell_type": "markdown",
   "metadata": {
    "toc-hr-collapsed": false
   },
   "source": [
    "## List comprehension and lambda"
   ]
  },
  {
   "cell_type": "markdown",
   "metadata": {},
   "source": [
    "### List Comprehensions\n",
    "\n",
    "A list comprehension is a compact expression to create a new list out of another list while applying filters and expressions. All in one line!\n",
    "\n",
    "We have a list of numbers: 1, 2, 3, 4, 5, 6, 7, 8, 9, 10\n",
    "\n",
    "We want to create a new list with these numbers, but we only want the uneven numbers and we want to square those.\n",
    "\n",
    "This will give us: 1, 9, 25, 49, 81\n",
    "\n",
    "Let's try."
   ]
  },
  {
   "cell_type": "code",
   "execution_count": null,
   "metadata": {},
   "outputs": [],
   "source": [
    "numbers = [1,2,3,4,5,6,7,8,9,10]"
   ]
  },
  {
   "cell_type": "code",
   "execution_count": 105,
   "metadata": {},
   "outputs": [
    {
     "data": {
      "text/plain": [
       "[1, 2, 3, 4, 5, 6, 7, 8, 9, 10]"
      ]
     },
     "execution_count": 105,
     "metadata": {},
     "output_type": "execute_result"
    }
   ],
   "source": [
    "newlist = [n for n in numbers]\n",
    "newlist"
   ]
  },
  {
   "cell_type": "markdown",
   "metadata": {},
   "source": [
    "Now we have a new list with the same items.\n",
    "\n",
    "Let's filter so that we keep the uneven numbers."
   ]
  },
  {
   "cell_type": "code",
   "execution_count": 104,
   "metadata": {},
   "outputs": [
    {
     "data": {
      "text/plain": [
       "[1, 3, 5, 7, 9]"
      ]
     },
     "execution_count": 104,
     "metadata": {},
     "output_type": "execute_result"
    }
   ],
   "source": [
    "numbers = [1,2,3,4,5,6,7,8,9,10]\n",
    "ans = []\n",
    "\n",
    "for n in numbers:\n",
    "    if n%2 !=0:\n",
    "        ans.append(n)\n",
    "        \n",
    "ans"
   ]
  },
  {
   "cell_type": "code",
   "execution_count": 107,
   "metadata": {},
   "outputs": [
    {
     "data": {
      "text/plain": [
       "[1, 3, 5, 7, 9]"
      ]
     },
     "execution_count": 107,
     "metadata": {},
     "output_type": "execute_result"
    }
   ],
   "source": [
    "# new way\n",
    "\n",
    "newlist = [n for n in numbers if n%2 != 0]\n",
    "newlist"
   ]
  },
  {
   "cell_type": "markdown",
   "metadata": {},
   "source": [
    "Now let's square those even numbers"
   ]
  },
  {
   "cell_type": "code",
   "execution_count": 111,
   "metadata": {},
   "outputs": [
    {
     "data": {
      "text/plain": [
       "[1, 9, 25, 49, 81]"
      ]
     },
     "execution_count": 111,
     "metadata": {},
     "output_type": "execute_result"
    }
   ],
   "source": [
    "square = [n**2 for n in numbers if n%2 != 0]\n",
    "square"
   ]
  },
  {
   "cell_type": "markdown",
   "metadata": {},
   "source": [
    "Done! All in one line.\n",
    "\n",
    "So what did we do here?\n",
    "\n",
    "We looped over the numbers, applied a filter and applied an expression on each item n.\n",
    "- iterable: numbers\n",
    "- element: n\n",
    "- condition: n%2!=0\n",
    "- expression: n**2\n",
    "\n",
    "```python\n",
    "[ expression(element) for element in iterable if condition(element) ]\n",
    "```"
   ]
  },
  {
   "cell_type": "markdown",
   "metadata": {},
   "source": [
    "### Lambda\n",
    "\n",
    "The lambda is a nameless function. \n",
    "\n",
    "Sometimes your want to define a function for a single time usage. In that case a lambda function is more elegant than predefining a whole named function, that you will only use once.\n",
    "\n",
    "Lambda functions are mainly used in combination with the functions sort(), filter() and map()."
   ]
  },
  {
   "cell_type": "code",
   "execution_count": 113,
   "metadata": {},
   "outputs": [],
   "source": [
    "tuples = [(40,1,1), (1,2,3,4), (1000,2), (-1,5,5,5,5,55,5,5)]"
   ]
  },
  {
   "cell_type": "markdown",
   "metadata": {},
   "source": [
    "Let's say we want to sort this list of tuples based in the total value of the tuple."
   ]
  },
  {
   "cell_type": "code",
   "execution_count": 115,
   "metadata": {},
   "outputs": [
    {
     "data": {
      "text/plain": [
       "[(-1, 5, 5, 5, 5, 55, 5, 5), (1, 2, 3, 4), (40, 1, 1), (1000, 2)]"
      ]
     },
     "execution_count": 115,
     "metadata": {},
     "output_type": "execute_result"
    }
   ],
   "source": [
    "# sort guna first value je\n",
    "sorted(tuples)"
   ]
  },
  {
   "cell_type": "markdown",
   "metadata": {},
   "source": [
    "By default it is sorted based on the first value."
   ]
  },
  {
   "cell_type": "code",
   "execution_count": null,
   "metadata": {},
   "outputs": [],
   "source": []
  },
  {
   "cell_type": "code",
   "execution_count": 116,
   "metadata": {},
   "outputs": [
    {
     "data": {
      "text/plain": [
       "[(1, 2, 3, 4), (40, 1, 1), (-1, 5, 5, 5, 5, 55, 5, 5), (1000, 2)]"
      ]
     },
     "execution_count": 116,
     "metadata": {},
     "output_type": "execute_result"
    }
   ],
   "source": [
    "def total(item):\n",
    "    return sum(item)\n",
    "\n",
    "sorted(tuples, key=total)"
   ]
  },
  {
   "cell_type": "markdown",
   "metadata": {},
   "source": [
    "The nameless lambda function enables us to do this in a more clean way."
   ]
  },
  {
   "cell_type": "code",
   "execution_count": 117,
   "metadata": {},
   "outputs": [
    {
     "data": {
      "text/plain": [
       "[(1, 2, 3, 4), (40, 1, 1), (-1, 5, 5, 5, 5, 55, 5, 5), (1000, 2)]"
      ]
     },
     "execution_count": 117,
     "metadata": {},
     "output_type": "execute_result"
    }
   ],
   "source": [
    "sorted(tuples, key=lambda x: sum(x))"
   ]
  },
  {
   "cell_type": "markdown",
   "metadata": {},
   "source": [
    "We can also sort based on the last item."
   ]
  },
  {
   "cell_type": "code",
   "execution_count": 119,
   "metadata": {},
   "outputs": [
    {
     "data": {
      "text/plain": [
       "[(40, 1, 1), (1000, 2), (1, 2, 3, 4), (-1, 5, 5, 5, 5, 55, 5, 5)]"
      ]
     },
     "execution_count": 119,
     "metadata": {},
     "output_type": "execute_result"
    }
   ],
   "source": [
    "sorted(tuples, key=lambda x: x[-1])"
   ]
  },
  {
   "cell_type": "markdown",
   "metadata": {},
   "source": [
    "The filter() function applies a filter function on the list. The outcome of the filter function is a boolean. \n",
    "\n",
    "Let's filter out the even numbers."
   ]
  },
  {
   "cell_type": "code",
   "execution_count": 120,
   "metadata": {},
   "outputs": [
    {
     "data": {
      "text/plain": [
       "<filter at 0x7fdab4b027c0>"
      ]
     },
     "execution_count": 120,
     "metadata": {},
     "output_type": "execute_result"
    }
   ],
   "source": [
    "# filter, the outcome must be boolean\n",
    "\n",
    "numbers = [1,2,3,4,5]\n",
    "filter(lambda x: x%2==0, numbers)"
   ]
  },
  {
   "cell_type": "markdown",
   "metadata": {},
   "source": [
    "We got a filter object. To see the result we need to cast it to list."
   ]
  },
  {
   "cell_type": "code",
   "execution_count": 121,
   "metadata": {},
   "outputs": [
    {
     "data": {
      "text/plain": [
       "[2, 4]"
      ]
     },
     "execution_count": 121,
     "metadata": {},
     "output_type": "execute_result"
    }
   ],
   "source": [
    "list(filter(lambda x: x%2==0, numbers))"
   ]
  },
  {
   "cell_type": "markdown",
   "metadata": {},
   "source": [
    "And now apply a mapping using map() to take the power of 3"
   ]
  },
  {
   "cell_type": "code",
   "execution_count": 123,
   "metadata": {},
   "outputs": [
    {
     "data": {
      "text/plain": [
       "[1, 8, 27, 64, 125]"
      ]
     },
     "execution_count": 123,
     "metadata": {},
     "output_type": "execute_result"
    }
   ],
   "source": [
    "def power_2(x):\n",
    "    return x**3\n",
    "\n",
    "list(map(lambda x: x**3, numbers))"
   ]
  },
  {
   "cell_type": "code",
   "execution_count": 128,
   "metadata": {},
   "outputs": [
    {
     "data": {
      "text/plain": [
       "[4, 16]"
      ]
     },
     "execution_count": 128,
     "metadata": {},
     "output_type": "execute_result"
    }
   ],
   "source": [
    "list(map(lambda x: x**2, filter(lambda x: x%2 == 0, numbers)))"
   ]
  },
  {
   "cell_type": "code",
   "execution_count": 171,
   "metadata": {},
   "outputs": [
    {
     "name": "stdout",
     "output_type": "stream",
     "text": [
      "Help on class map in module builtins:\n",
      "\n",
      "class map(object)\n",
      " |  map(func, *iterables) --> map object\n",
      " |  \n",
      " |  Make an iterator that computes the function using arguments from\n",
      " |  each of the iterables.  Stops when the shortest iterable is exhausted.\n",
      " |  \n",
      " |  Methods defined here:\n",
      " |  \n",
      " |  __getattribute__(self, name, /)\n",
      " |      Return getattr(self, name).\n",
      " |  \n",
      " |  __iter__(self, /)\n",
      " |      Implement iter(self).\n",
      " |  \n",
      " |  __next__(self, /)\n",
      " |      Implement next(self).\n",
      " |  \n",
      " |  __reduce__(...)\n",
      " |      Return state information for pickling.\n",
      " |  \n",
      " |  ----------------------------------------------------------------------\n",
      " |  Static methods defined here:\n",
      " |  \n",
      " |  __new__(*args, **kwargs) from builtins.type\n",
      " |      Create and return a new object.  See help(type) for accurate signature.\n",
      "\n"
     ]
    }
   ],
   "source": [
    "help(map)"
   ]
  },
  {
   "cell_type": "markdown",
   "metadata": {},
   "source": [
    "### Summary - List comprehension and lambda"
   ]
  },
  {
   "cell_type": "markdown",
   "metadata": {},
   "source": [
    "> #### list comprehension\n",
    "A compact way to process all or part of the elements in a sequence and return a list with the results.\n",
    "```python\n",
    "numbers = [1,2,3,4,5]\n",
    "newlist = [n for n in numbers]\n",
    "newlist = [n for n in numbers if n%2==0]\n",
    "newlist = [n**2 for n in numbers if n%2==0]\n",
    "```"
   ]
  },
  {
   "cell_type": "markdown",
   "metadata": {},
   "source": [
    "> #### lambda\n",
    "An anonymous inline function consisting of a single expression which is evaluated when the function is called. The syntax to create a lambda function is lambda [parameters]: expression\n",
    "```python\n",
    "sorted(numbers, key=lambda x: sum(x))\n",
    "filter(lambda x: x%2==0, numbers)\n",
    "map(lambda x: x**2, numbers)\n",
    "```"
   ]
  },
  {
   "cell_type": "markdown",
   "metadata": {
    "toc-hr-collapsed": false
   },
   "source": [
    "### RUN ME\n",
    "\n",
    "Please run the below code snippet. It is required for running tests for your solution."
   ]
  },
  {
   "cell_type": "code",
   "execution_count": 130,
   "metadata": {},
   "outputs": [],
   "source": [
    "def test(got, expected):\n",
    "    if got == expected:\n",
    "        prefix = ' OK '\n",
    "    else:\n",
    "        prefix = '  FAIL '\n",
    "    print(('%s got: %s expected: %s' % (prefix, repr(got), repr(expected))))"
   ]
  },
  {
   "cell_type": "code",
   "execution_count": 131,
   "metadata": {},
   "outputs": [
    {
     "name": "stdout",
     "output_type": "stream",
     "text": [
      "  FAIL  got: 'a' expected: 'ab'\n",
      " OK  got: 'a' expected: 'a'\n"
     ]
    }
   ],
   "source": [
    "test('a', 'ab')\n",
    "test('a', 'a')"
   ]
  },
  {
   "cell_type": "markdown",
   "metadata": {
    "toc-hr-collapsed": false
   },
   "source": [
    "### Exercises - List comprehension and lambda"
   ]
  },
  {
   "cell_type": "markdown",
   "metadata": {},
   "source": [
    "#### Exercise 1 - Negative ints\n",
    "\n",
    "Write a list comprehension to create a new list that contains only the negative numbers as integers and store it as newlist."
   ]
  },
  {
   "cell_type": "code",
   "execution_count": 132,
   "metadata": {},
   "outputs": [
    {
     "name": "stdout",
     "output_type": "stream",
     "text": [
      "negative_ints\n",
      " OK  got: [-203, -68, -12] expected: [-203, -68, -12]\n"
     ]
    }
   ],
   "source": [
    "numbers = [34.6, -203.4, 44.9, -68.3, -12.2, 44.6, 12.7]\n",
    "\n",
    "newlist = [int(n) for n in numbers if n < 0]\n",
    " \n",
    "# TEST\n",
    "print(\"negative_ints\")\n",
    "test(newlist, [-203, -68, -12])"
   ]
  },
  {
   "cell_type": "markdown",
   "metadata": {},
   "source": [
    "#### Exercise 2 - Power odds\n",
    "\n",
    "Write one line of Python that takes this list and makes a new list that only has the odd elements and power it with 3.\n",
    "\n",
    "Hints: x**3"
   ]
  },
  {
   "cell_type": "code",
   "execution_count": 181,
   "metadata": {},
   "outputs": [
    {
     "name": "stdout",
     "output_type": "stream",
     "text": [
      "power_odds\n",
      " OK  got: [1, 81, 625, 2401, 6561] expected: [1, 81, 625, 2401, 6561]\n"
     ]
    }
   ],
   "source": [
    "numbers = [1, 4, 9, 16, 25, 36, 49, 64, 81, 100]\n",
    "\n",
    "result = list(filter(lambda x: x%2 !=0, map(lambda x: x**2, numbers)))\n",
    "\n",
    "print(\"power_odds\")\n",
    "test(result, [1, 81, 625, 2401, 6561])"
   ]
  },
  {
   "cell_type": "markdown",
   "metadata": {},
   "source": [
    "#### Exercise 3 - Word lengths\n",
    "\n",
    "Write a list comprehsion to determine the length of each word except 'the' and store as word_lengths"
   ]
  },
  {
   "cell_type": "code",
   "execution_count": 152,
   "metadata": {},
   "outputs": [
    {
     "name": "stdout",
     "output_type": "stream",
     "text": [
      "\n",
      " OK  got: [5, 5, 3, 5, 4, 4, 3] expected: [5, 5, 3, 5, 4, 4, 3]\n"
     ]
    }
   ],
   "source": [
    "sentence = \"the quick brown fox jumps over the lazy dog\"\n",
    "\n",
    "#newlist = sentence.split(sep=' ')\n",
    "\n",
    "word_lengths = [len(n) for n in sentence.split(sep=' ') if n!= 'the']\n",
    "\n",
    "# TEST\n",
    "print()\n",
    "test(word_lengths, [5, 5, 3, 5, 4, 4, 3])"
   ]
  },
  {
   "cell_type": "markdown",
   "metadata": {},
   "source": [
    "# Exercise 4-Celsius to Farenheit\n",
    "\n",
    "Convert the following list of temperature in Celsius to Farenheit. Round the results to 2 decimal places.\n",
    "\n",
    "Farenheit = 9/5 * Celsius + 32"
   ]
  },
  {
   "cell_type": "code",
   "execution_count": 160,
   "metadata": {},
   "outputs": [
    {
     "name": "stdout",
     "output_type": "stream",
     "text": [
      "celsius_to_fahrenheit\n",
      " OK  got: [110.48, 153.14, 110.48, 133.52] expected: [110.48, 153.14, 110.48, 133.52]\n"
     ]
    }
   ],
   "source": [
    "celsius = [43.6, 67.3, 43.6, 56.4]\n",
    "fahrenheit = [round(n*(9/5)+32,2) for n in celsius]\n",
    "\n",
    "# TEST\n",
    "print(\"celsius_to_fahrenheit\")\n",
    "test(fahrenheit, [110.48, 153.14, 110.48, 133.52])"
   ]
  },
  {
   "cell_type": "markdown",
   "metadata": {},
   "source": [
    "#### Exercise 5 - Square odds lambda\n",
    "\n",
    "Write a lambda function that squares number for all odd numbers from 1 to 100\n",
    "\n",
    "Hints: filter(), map(), list()"
   ]
  },
  {
   "cell_type": "code",
   "execution_count": 166,
   "metadata": {},
   "outputs": [
    {
     "name": "stdout",
     "output_type": "stream",
     "text": [
      "square_odds_lambda\n",
      " OK  got: [1, 9, 25, 49, 81, 121, 169, 225, 289, 361, 441, 529, 625, 729, 841, 961, 1089, 1225, 1369, 1521, 1681, 1849, 2025, 2209, 2401, 2601, 2809, 3025, 3249, 3481, 3721, 3969, 4225, 4489, 4761, 5041, 5329, 5625, 5929, 6241, 6561, 6889, 7225, 7569, 7921, 8281, 8649, 9025, 9409, 9801] expected: [1, 9, 25, 49, 81, 121, 169, 225, 289, 361, 441, 529, 625, 729, 841, 961, 1089, 1225, 1369, 1521, 1681, 1849, 2025, 2209, 2401, 2601, 2809, 3025, 3249, 3481, 3721, 3969, 4225, 4489, 4761, 5041, 5329, 5625, 5929, 6241, 6561, 6889, 7225, 7569, 7921, 8281, 8649, 9025, 9409, 9801]\n"
     ]
    }
   ],
   "source": [
    "numbers = list(range(1,100+1))\n",
    "\n",
    "answer = list(filter(lambda x: x%2 !=0, map(lambda x: x**2,numbers)))\n",
    "\n",
    "\n",
    "# TEST\n",
    "print(\"square_odds_lambda\")\n",
    "test_answer = [1, 9, 25, 49, 81, 121, 169, 225, 289, 361, 441, 529, 625, 729, 841, 961, 1089, 1225, 1369, 1521, 1681, 1849, 2025, 2209, 2401, 2601, 2809, 3025, 3249, 3481, 3721, 3969, 4225, 4489, 4761, 5041, 5329, 5625, 5929, 6241, 6561, 6889, 7225, 7569, 7921, 8281, 8649, 9025, 9409, 9801]\n",
    "test(answer, test_answer)"
   ]
  },
  {
   "cell_type": "markdown",
   "metadata": {},
   "source": [
    "####  Exercise 6 - Square odds\n",
    "\n",
    "Write a list comprehension that square number for all odd numbers from 1 to 100\n",
    "\n",
    "Hints: range(1,100)"
   ]
  },
  {
   "cell_type": "code",
   "execution_count": 167,
   "metadata": {},
   "outputs": [
    {
     "name": "stdout",
     "output_type": "stream",
     "text": [
      " OK  got: [1, 9, 25, 49, 81, 121, 169, 225, 289, 361, 441, 529, 625, 729, 841, 961, 1089, 1225, 1369, 1521, 1681, 1849, 2025, 2209, 2401, 2601, 2809, 3025, 3249, 3481, 3721, 3969, 4225, 4489, 4761, 5041, 5329, 5625, 5929, 6241, 6561, 6889, 7225, 7569, 7921, 8281, 8649, 9025, 9409, 9801] expected: [1, 9, 25, 49, 81, 121, 169, 225, 289, 361, 441, 529, 625, 729, 841, 961, 1089, 1225, 1369, 1521, 1681, 1849, 2025, 2209, 2401, 2601, 2809, 3025, 3249, 3481, 3721, 3969, 4225, 4489, 4761, 5041, 5329, 5625, 5929, 6241, 6561, 6889, 7225, 7569, 7921, 8281, 8649, 9025, 9409, 9801]\n"
     ]
    }
   ],
   "source": [
    "answer = [n**2 for n in range(1,100) if n % 2 != 0]\n",
    "\n",
    "# TEST\n",
    "test(answer, [1, 9, 25, 49, 81, 121, 169, 225, 289, 361, 441, 529, 625, 729, 841, \n",
    "              961, 1089, 1225, 1369, 1521, 1681, 1849, 2025, 2209, 2401, 2601, 2809, \n",
    "              3025, 3249, 3481, 3721, 3969, 4225, 4489, 4761, 5041, 5329, 5625, 5929, 6241, 6561, 6889, \n",
    "              7225, 7569, 7921, 8281, 8649, 9025, 9409, 9801])"
   ]
  },
  {
   "cell_type": "markdown",
   "metadata": {},
   "source": [
    "#### Exercise 7 - Extract A names lambda \n",
    "\n",
    "Write a lambda function to extract names that begin with 'A'"
   ]
  },
  {
   "cell_type": "code",
   "execution_count": 168,
   "metadata": {},
   "outputs": [
    {
     "name": "stdout",
     "output_type": "stream",
     "text": [
      " OK  got: ['Anne', 'Amy'] expected: ['Anne', 'Amy']\n"
     ]
    }
   ],
   "source": [
    "names = ['Anne', 'Amy', 'Bob', 'David', 'Carrie', 'Barbara', 'Zach']\n",
    "answer = list(filter(lambda x : x.startswith('A'),names))\n",
    "\n",
    "# TEST\n",
    "test(answer, ['Anne', 'Amy'])"
   ]
  },
  {
   "cell_type": "markdown",
   "metadata": {},
   "source": [
    "#### Exercise 8 - Extract B names lc\n",
    "\n",
    "Write a list comprehension to extract the names that begin with 'B'"
   ]
  },
  {
   "cell_type": "code",
   "execution_count": 180,
   "metadata": {},
   "outputs": [
    {
     "name": "stdout",
     "output_type": "stream",
     "text": [
      "extract_b_names_lc\n",
      " OK  got: ['Bob', 'Barbara'] expected: ['Bob', 'Barbara']\n"
     ]
    }
   ],
   "source": [
    "names = ['Anne', 'Amy', 'Bob', 'David', 'Carrie', 'Barbara', 'Zach']\n",
    "answer = [n for n in names if n.startswith('B') ]\n",
    "\n",
    "# TEST\n",
    "print(\"extract_b_names_lc\")\n",
    "test(answer, ['Bob', 'Barbara'])"
   ]
  },
  {
   "cell_type": "markdown",
   "metadata": {},
   "source": [
    "#### Exercise 9 - Sort last\n",
    "\n",
    "Given a list of non-empty tuples, return a list sorted in increasing\n",
    "order by the last element in each tuple. <br/>\n",
    "e.g. [(1, 7), (1, 3), (3, 4, 5), (2, 2)] yields\n",
    "[(2, 2), (1, 3), (3, 4, 5), (1, 7)] <br/>\n",
    "\n",
    "Hint: use a custom key= function to extract the last element form each tuple."
   ]
  },
  {
   "cell_type": "code",
   "execution_count": 176,
   "metadata": {},
   "outputs": [
    {
     "name": "stdout",
     "output_type": "stream",
     "text": [
      " OK  got: [(2, 1), (3, 2), (1, 3)] expected: [(2, 1), (3, 2), (1, 3)]\n",
      " OK  got: [(3, 1), (1, 2), (2, 3)] expected: [(3, 1), (1, 2), (2, 3)]\n",
      " OK  got: [(2, 2), (1, 3), (3, 4, 5), (1, 7)] expected: [(2, 2), (1, 3), (3, 4, 5), (1, 7)]\n"
     ]
    }
   ],
   "source": [
    "#output: [(2, 1), (3, 2), (1, 3)]\n",
    "list1 = [(1, 3), (3, 2), (2, 1)]\n",
    "\n",
    "#output: [(3, 1), (1, 2), (2, 3)]\n",
    "list2 = [(2, 3), (1, 2), (3, 1)]\n",
    "\n",
    "#output: [(2, 2), (1, 3), (3, 4, 5), (1, 7)]\n",
    "list3 = [(1, 7), (1, 3), (3, 4, 5), (2, 2)]\n",
    "\n",
    "def sort_last(tuples):\n",
    "    return sorted(tuples, key=lambda x: x[-1])\n",
    "\n",
    "sort_last(list1)\n",
    "sort_last(list2)\n",
    "sort_last(list3)\n",
    "\n",
    "\n",
    "# TEST\n",
    "test(sort_last(list1), [(2, 1), (3, 2), (1, 3)])\n",
    "test(sort_last(list2), [(3, 1), (1, 2), (2, 3)])\n",
    "test(sort_last(list3), [(2, 2), (1, 3), (3, 4, 5), (1, 7)])"
   ]
  },
  {
   "cell_type": "markdown",
   "metadata": {},
   "source": [
    "#### Exercise 10 - Coordinates\n",
    "\n",
    "Convert the following for loop code to list comprehension\n",
    "\n",
    "Hint: double list comprehension"
   ]
  },
  {
   "cell_type": "code",
   "execution_count": 182,
   "metadata": {},
   "outputs": [
    {
     "name": "stdout",
     "output_type": "stream",
     "text": [
      "[(0, 0), (0, 1), (1, 0), (1, 1), (2, 0), (2, 1), (3, 0), (3, 1)]\n"
     ]
    }
   ],
   "source": [
    "coords = []\n",
    "for x in range(4):\n",
    "    for y in range(2):\n",
    "        coordinate = (x, y)\n",
    "        coords.append(coordinate)\n",
    "print(coords)"
   ]
  },
  {
   "cell_type": "code",
   "execution_count": 179,
   "metadata": {},
   "outputs": [
    {
     "name": "stdout",
     "output_type": "stream",
     "text": [
      "coordinates\n",
      " OK  got: [(0, 0), (0, 1), (1, 0), (1, 1), (2, 0), (2, 1), (3, 0), (3, 1)] expected: [(0, 0), (0, 1), (1, 0), (1, 1), (2, 0), (2, 1), (3, 0), (3, 1)]\n"
     ]
    }
   ],
   "source": [
    "coords = []\n",
    "coords_lc = [(x,y) for x in range(4) for y in range(2)]\n",
    "\n",
    "\n",
    "print(\"coordinates\") \n",
    "test(coords_lc, [(0, 0), (0, 1), (1, 0), (1, 1), (2, 0), (2, 1), (3, 0), (3, 1)])"
   ]
  }
 ],
 "metadata": {
  "kernelspec": {
   "display_name": "Python 3",
   "language": "python",
   "name": "python3"
  },
  "language_info": {
   "codemirror_mode": {
    "name": "ipython",
    "version": 3
   },
   "file_extension": ".py",
   "mimetype": "text/x-python",
   "name": "python",
   "nbconvert_exporter": "python",
   "pygments_lexer": "ipython3",
   "version": "3.8.3"
  },
  "toc-autonumbering": false
 },
 "nbformat": 4,
 "nbformat_minor": 4
}
